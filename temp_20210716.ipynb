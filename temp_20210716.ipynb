{
 "cells": [
  {
   "cell_type": "code",
   "execution_count": 6,
   "id": "minute-captain",
   "metadata": {},
   "outputs": [],
   "source": [
    "import os\n",
    "import pandas as pd\n",
    "import re"
   ]
  },
  {
   "cell_type": "code",
   "execution_count": 2,
   "id": "residential-bowling",
   "metadata": {},
   "outputs": [],
   "source": [
    "path = r\"D:\\Work\\Lipo_test\\samples_results\\raw\""
   ]
  },
  {
   "cell_type": "code",
   "execution_count": 4,
   "id": "growing-factory",
   "metadata": {},
   "outputs": [
    {
     "data": {
      "text/plain": [
       "['hundred_percent.csv', 'zero_percent.csv']"
      ]
     },
     "execution_count": 4,
     "metadata": {},
     "output_type": "execute_result"
    }
   ],
   "source": [
    "files = [f for f in os.listdir(path) if os.path.isfile(os.path.join(path, f))]\n",
    "files"
   ]
  },
  {
   "cell_type": "code",
   "execution_count": 45,
   "id": "spare-forestry",
   "metadata": {},
   "outputs": [
    {
     "data": {
      "text/html": [
       "<div>\n",
       "<style scoped>\n",
       "    .dataframe tbody tr th:only-of-type {\n",
       "        vertical-align: middle;\n",
       "    }\n",
       "\n",
       "    .dataframe tbody tr th {\n",
       "        vertical-align: top;\n",
       "    }\n",
       "\n",
       "    .dataframe thead th {\n",
       "        text-align: right;\n",
       "    }\n",
       "</style>\n",
       "<table border=\"1\" class=\"dataframe\">\n",
       "  <thead>\n",
       "    <tr style=\"text-align: right;\">\n",
       "      <th></th>\n",
       "      <th>Sample</th>\n",
       "      <th>Well</th>\n",
       "      <th>Mean influx</th>\n",
       "      <th>Total liposomes</th>\n",
       "      <th>Valid liposomes</th>\n",
       "      <th>Invalid liposomes</th>\n",
       "    </tr>\n",
       "  </thead>\n",
       "  <tbody>\n",
       "    <tr>\n",
       "      <th>0</th>\n",
       "      <td>hundred_percent</td>\n",
       "      <td>X0Y0</td>\n",
       "      <td>100.000000</td>\n",
       "      <td>254</td>\n",
       "      <td>254</td>\n",
       "      <td>0</td>\n",
       "    </tr>\n",
       "    <tr>\n",
       "      <th>0</th>\n",
       "      <td>zero_percent</td>\n",
       "      <td>X0Y0</td>\n",
       "      <td>0.315737</td>\n",
       "      <td>254</td>\n",
       "      <td>230</td>\n",
       "      <td>24</td>\n",
       "    </tr>\n",
       "  </tbody>\n",
       "</table>\n",
       "</div>"
      ],
      "text/plain": [
       "            Sample  Well  Mean influx  Total liposomes  Valid liposomes  \\\n",
       "0  hundred_percent  X0Y0   100.000000              254              254   \n",
       "0     zero_percent  X0Y0     0.315737              254              230   \n",
       "\n",
       "   Invalid liposomes  \n",
       "0                  0  \n",
       "0                 24  "
      ]
     },
     "execution_count": 45,
     "metadata": {},
     "output_type": "execute_result"
    }
   ],
   "source": [
    "summary_df = pd.DataFrame()\n",
    "for file in files:\n",
    "    file_path = os.path.join(path, file)\n",
    "    df = pd.read_csv(file_path)\n",
    "    df['Well'] = df['FoV'].str.findall(r\"X\\dY\\d\")\n",
    "    df['Well'] = df['Well'].str.get(0)\n",
    "    df = df.groupby('Well').agg({'Mean influx': 'mean',\n",
    "                                'Total liposomes': 'sum',\n",
    "                                'Valid liposomes': 'sum',\n",
    "                                'Invalid liposomes': 'sum'})\n",
    "    df = df.reset_index(drop=False)\n",
    "    df['Sample'] = file[:-4]\n",
    "    summary_df = pd.concat([summary_df, df])\n",
    "\n",
    "cols = summary_df.columns.tolist()\n",
    "cols = cols[-1:] + cols[:-1]\n",
    "summary_df = summary_df[cols]\n",
    "summary_df"
   ]
  },
  {
   "cell_type": "code",
   "execution_count": null,
   "id": "binding-sierra",
   "metadata": {},
   "outputs": [],
   "source": []
  }
 ],
 "metadata": {
  "kernelspec": {
   "display_name": "Python 3",
   "language": "python",
   "name": "python3"
  },
  "language_info": {
   "codemirror_mode": {
    "name": "ipython",
    "version": 3
   },
   "file_extension": ".py",
   "mimetype": "text/x-python",
   "name": "python",
   "nbconvert_exporter": "python",
   "pygments_lexer": "ipython3",
   "version": "3.7.10"
  }
 },
 "nbformat": 4,
 "nbformat_minor": 5
}
